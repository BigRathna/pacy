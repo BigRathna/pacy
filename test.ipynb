{
 "cells": [
  {
   "cell_type": "code",
   "execution_count": 11,
   "metadata": {},
   "outputs": [],
   "source": [
    "import spacy\n",
    "from spacy.training.example import Example\n",
    "from flask import Flask, render_template, request"
   ]
  },
  {
   "cell_type": "code",
   "execution_count": 12,
   "metadata": {},
   "outputs": [],
   "source": [
    "nlp = spacy.load(\"en_core_web_sm\")"
   ]
  },
  {
   "cell_type": "code",
   "execution_count": 13,
   "metadata": {},
   "outputs": [],
   "source": [
    "\n",
    "TRAINING_DATA = [\n",
    "    (\"Apple is looking to buy a U.K. startup for $1 billion\", {\"entities\": [(0, 5, \"ORG\"), (26, 31, \"GPE\")]}),\n",
    "    (\"Microsoft acquires another AI startup for $500 million\", {\"entities\": [(0, 9, \"ORG\")]}),\n",
    "    (\"Google launches its new Pixel phone\", {\"entities\": [(0, 6, \"ORG\"), (25, 30, \"PRODUCT\")]}),\n",
    "    (\"Amazon opens a new fulfillment center in Sydney\", {\"entities\": [(0, 6, \"ORG\"), (28, 34, \"GPE\")]}),\n",
    "    (\"Tesla unveils its latest electric car model\", {\"entities\": [(0, 5, \"ORG\")]}),\n",
    "    (\"Facebook announces a new feature for its messaging app\", {\"entities\": [(0, 8, \"ORG\")]}),\n",
    "    (\"Uber partners with a local taxi company\", {\"entities\": [(0, 4, \"ORG\")]}),\n",
    "    (\"Netflix releases a new original series\", {\"entities\": [(0, 7, \"ORG\")]}),\n",
    "    (\"SpaceX successfully launches a satellite into orbit\", {\"entities\": [(0, 6, \"ORG\")]}),\n",
    "    (\"Twitter introduces a new algorithm for its timeline\", {\"entities\": [(0, 7, \"ORG\")]}),\n",
    "]"
   ]
  },
  {
   "cell_type": "code",
   "execution_count": 14,
   "metadata": {},
   "outputs": [],
   "source": [
    "# Start the training\n",
    "for epoch in range(10):\n",
    "    for text, annotations in TRAINING_DATA:\n",
    "        doc = nlp.make_doc(text)\n",
    "        example = Example.from_dict(doc, annotations)\n",
    "        nlp.update([example])"
   ]
  },
  {
   "cell_type": "code",
   "execution_count": 15,
   "metadata": {},
   "outputs": [
    {
     "name": "stdout",
     "output_type": "stream",
     "text": [
      " * Serving Flask app '__main__' (lazy loading)\n",
      " * Environment: production\n",
      "\u001b[31m   WARNING: This is a development server. Do not use it in a production deployment.\u001b[0m\n",
      "\u001b[2m   Use a production WSGI server instead.\u001b[0m\n",
      " * Debug mode: off\n"
     ]
    },
    {
     "name": "stderr",
     "output_type": "stream",
     "text": [
      " * Running on http://127.0.0.1:5000/ (Press CTRL+C to quit)\n"
     ]
    }
   ],
   "source": [
    "app = Flask(__name__)\n",
    "\n",
    "@app.route(\"/\")\n",
    "def index():\n",
    "    return render_template(\"index.html\")\n",
    "\n",
    "@app.route(\"/process\", methods=[\"POST\"])\n",
    "def process():\n",
    "    text = request.form.get(\"text\")\n",
    "\n",
    "    # Process the text with your spaCy model\n",
    "    doc = nlp(text)\n",
    "\n",
    "    # Extract the entities from the processed text\n",
    "    entities = [(ent.text, ent.label_) for ent in doc.ents]\n",
    "\n",
    "    return render_template(\"result.html\", entities=entities)\n",
    "\n",
    "if __name__ == \"__main__\":\n",
    "    app.run()\n"
   ]
  },
  {
   "cell_type": "code",
   "execution_count": null,
   "metadata": {},
   "outputs": [],
   "source": []
  }
 ],
 "metadata": {
  "language_info": {
   "name": "python"
  },
  "orig_nbformat": 4
 },
 "nbformat": 4,
 "nbformat_minor": 2
}
